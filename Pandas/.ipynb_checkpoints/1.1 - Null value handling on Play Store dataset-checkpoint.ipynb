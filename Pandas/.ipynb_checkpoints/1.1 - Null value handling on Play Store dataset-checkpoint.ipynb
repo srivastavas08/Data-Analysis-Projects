{
 "cells": [
  {
   "cell_type": "code",
   "execution_count": null,
   "id": "bca3677d",
   "metadata": {},
   "outputs": [],
   "source": [
    "import pandas as pd\n",
    "import numpy as np\n",
    "\n",
    "from sklearn.impute import SimpleImputer"
   ]
  },
  {
   "cell_type": "code",
   "execution_count": null,
   "id": "cf14beec",
   "metadata": {},
   "outputs": [],
   "source": [
    "df = pd.read_csv('googleplaystore.csv')"
   ]
  }
 ],
 "metadata": {
  "kernelspec": {
   "display_name": "Python 3 (ipykernel)",
   "language": "python",
   "name": "python3"
  },
  "language_info": {
   "codemirror_mode": {
    "name": "ipython",
    "version": 3
   },
   "file_extension": ".py",
   "mimetype": "text/x-python",
   "name": "python",
   "nbconvert_exporter": "python",
   "pygments_lexer": "ipython3",
   "version": "3.10.9"
  }
 },
 "nbformat": 4,
 "nbformat_minor": 5
}
